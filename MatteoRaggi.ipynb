{
 "cells": [
  {
   "cell_type": "markdown",
   "metadata": {},
   "source": [
    "**Import Necessari**"
   ]
  },
  {
   "cell_type": "code",
   "execution_count": null,
   "metadata": {},
   "outputs": [],
   "source": [
    "from tensorflow.keras import layers\n",
    "from tensorflow.keras.models import Model\n",
    "from tensorflow.keras.datasets import mnist\n",
    "from tensorflow.keras.optimizers import Adam\n",
    "from sklearn.model_selection import train_test_split\n",
    "import tensorflow as tf\n",
    "import numpy as np\n",
    "import matplotlib.pyplot as plt"
   ]
  },
  {
   "cell_type": "markdown",
   "metadata": {},
   "source": [
    "**Funzioni Utilizzate**"
   ]
  },
  {
   "cell_type": "code",
   "execution_count": null,
   "metadata": {},
   "outputs": [],
   "source": [
    "def generator(dataset,batchsize,moves=10):\n",
    "  while True:\n",
    "    rand = np.random.randint(dataset.shape[0],size=batchsize)\n",
    "    y_truth = dataset[rand]\n",
    "    blurred = np.copy(y_truth)\n",
    "    moving = tf.expand_dims(y_truth,axis=-1)\n",
    "\n",
    "    for i in range(moves):\n",
    "      #RandomTranslation requires a channel axis\n",
    "      moving = layers.RandomTranslation(0.07,0.07,fill_mode='constant',interpolation='bilinear')(moving)\n",
    "      blurred = blurred + tf.squeeze(moving)\n",
    "    blurred = blurred/(moves+1)\n",
    "    yield(blurred,y_truth)\n",
    "\n",
    "def plot(x,y):\n",
    "  no = x.shape[0]\n",
    "  print(no)\n",
    "  plt.figure(figsize=(2*no, 4))\n",
    "  for i in range(no):\n",
    "    # display original\n",
    "    ax = plt.subplot(2, no, i + 1)\n",
    "    plt.imshow(x[i])\n",
    "    plt.gray()\n",
    "    ax.get_xaxis().set_visible(False)\n",
    "    ax.get_yaxis().set_visible(False)\n",
    "\n",
    "    # display reconstruction\n",
    "    ax = plt.subplot(2, no, i + 1 + no)\n",
    "    plt.imshow(y[i])\n",
    "    plt.gray()\n",
    "    ax.get_xaxis().set_visible(False)\n",
    "    ax.get_yaxis().set_visible(False)\n",
    "  plt.show()\n",
    "\n",
    "def mean_square_error(x,x_true):\n",
    "  summation = 0  #variable to store the summation of differences\n",
    "  n = len(x) #finding total number of items in list\n",
    "  for i in range (0,n):  #looping through each element of the list\n",
    "    difference = x[i] - x_true[i]  #finding the difference between observed and predicted value\n",
    "    squared_difference = difference**2  #taking square of the differene \n",
    "    summation = summation + squared_difference  #taking a sum of all the differences\n",
    "  MSE = summation/n  #dividing summation by total values to obtain average\n",
    "  print (\"The Mean Square Error is: \" , MSE)\n",
    "  return MSE\n",
    "\n",
    "def deblur_model(input_shape):\n",
    "  inputs = layers.Input(shape=input_shape)\n",
    "    \n",
    "  # Encoder\n",
    "  x = layers.Conv2D(64, (3, 3), activation='relu', padding='same')(inputs)\n",
    "  x = layers.Conv2D(64, (3, 3), activation='relu', padding='same')(x)\n",
    "  \n",
    "  # Decoder\n",
    "  x = layers.Conv2D(64, (3, 3), activation='relu', padding='same')(x)\n",
    "  outputs = layers.Conv2D(1, (3, 3), activation='sigmoid', padding='same')(x)\n",
    "  \n",
    "  model = Model(inputs, outputs)\n",
    "  return model\n"
   ]
  },
  {
   "cell_type": "markdown",
   "metadata": {},
   "source": [
    "**Definizione del Modello**"
   ]
  },
  {
   "cell_type": "code",
   "execution_count": null,
   "metadata": {},
   "outputs": [],
   "source": [
    "(x_train, y_train), (x_test, y_test) = mnist.load_data()\n",
    "x_train = (x_train/255.).astype(np.float32)\n",
    "x_test = (x_test/255.).astype(np.float32)\n",
    "\n",
    "x_train, x_valid = train_test_split(x_train, test_size=0.1, random_state=42)"
   ]
  },
  {
   "cell_type": "markdown",
   "metadata": {},
   "source": [
    "**Fase di Training del Modello**"
   ]
  },
  {
   "cell_type": "code",
   "execution_count": 2,
   "metadata": {},
   "outputs": [
    {
     "ename": "NameError",
     "evalue": "name 'generator' is not defined",
     "output_type": "error",
     "traceback": [
      "\u001b[0;31m---------------------------------------------------------------------------\u001b[0m",
      "\u001b[0;31mNameError\u001b[0m                                 Traceback (most recent call last)",
      "Cell \u001b[0;32mIn[2], line 1\u001b[0m\n\u001b[0;32m----> 1\u001b[0m my_gen \u001b[38;5;241m=\u001b[39m \u001b[43mgenerator\u001b[49m(x_train,\u001b[38;5;241m5\u001b[39m)\n\u001b[1;32m      2\u001b[0m test_x,test_y \u001b[38;5;241m=\u001b[39m \u001b[38;5;28mnext\u001b[39m(my_gen)\n\u001b[1;32m      3\u001b[0m plot(test_x,test_y)\n",
      "\u001b[0;31mNameError\u001b[0m: name 'generator' is not defined"
     ]
    }
   ],
   "source": [
    "my_gen = generator(x_train,5)\n",
    "test_x,test_y = next(my_gen)\n",
    "plot(test_x,test_y)\n",
    "\n",
    "batch_size = 32  # Puoi modificare la batch size come preferisci\n",
    "epochs = 10\n",
    "#steps_per_epoch = len(x_train)\n",
    "#validation_steps = len(x_test)\n",
    "\n",
    "model = deblur_model((28, 28, 1))\n",
    "model.compile(optimizer='adam', loss='mse')\n",
    "\n",
    "history = model.fit(\n",
    "    generator(x_train, batch_size),\n",
    "    epochs=epochs,\n",
    "    steps_per_epoch=len(x_train) // batch_size,\n",
    "    validation_data=(x_valid, x_valid)\n",
    ")\n",
    "\n",
    "#history = model.fit(\n",
    "#    x_train, x_train,\n",
    "#    epochs=epochs,\n",
    "#    batch_size=batch_size,\n",
    "#    validation_data=(x_valid, x_valid)\n",
    "#)\n",
    "\n",
    "#history = my_gen.fit(\n",
    "#    generator(x_train, batch_size),\n",
    "#   steps_per_epoch=steps_per_epoch,\n",
    "#    epochs=20,  # Puoi aumentare il numero di epoche se necessario\n",
    "#    validation_data=generator(x_test, batch_size),\n",
    "#  validation_steps=validation_steps\n",
    "#)\n",
    "\n",
    "model.summary()"
   ]
  },
  {
   "cell_type": "markdown",
   "metadata": {},
   "source": [
    "**Fase di Validazione del Modello**"
   ]
  },
  {
   "cell_type": "code",
   "execution_count": null,
   "metadata": {},
   "outputs": [],
   "source": [
    "test_loss = model.evaluate(generator(x_test, batch_size), steps=len(x_test) // batch_size)\n",
    "#test_loss = model.evaluate(x_test, x_test)\n",
    "print(f\"Test Loss: {test_loss}\")\n",
    "\n",
    "plot(history,epochs)\n",
    "\n",
    "#my_gen.fit( x_train, y_train, epochs=5, batch_size=5, validation_split=0.2 )\n",
    "#mean_square_error(test_x,valid_x);"
   ]
  },
  {
   "cell_type": "code",
   "execution_count": null,
   "metadata": {},
   "outputs": [],
   "source": [
    "#deblurred_images = model.predict(x_test)\n",
    "deblurred_images = model.predict(generator(x_test, batch_size), steps=len(x_test) // batch_size)"
   ]
  }
 ],
 "metadata": {
  "kernelspec": {
   "display_name": "Python 3",
   "language": "python",
   "name": "python3"
  },
  "language_info": {
   "codemirror_mode": {
    "name": "ipython",
    "version": 3
   },
   "file_extension": ".py",
   "mimetype": "text/x-python",
   "name": "python",
   "nbconvert_exporter": "python",
   "pygments_lexer": "ipython3",
   "version": "3.9.6"
  }
 },
 "nbformat": 4,
 "nbformat_minor": 2
}
