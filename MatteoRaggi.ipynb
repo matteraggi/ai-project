{
 "cells": [
  {
   "cell_type": "markdown",
   "metadata": {},
   "source": [
    "**Import Necessari**"
   ]
  },
  {
   "cell_type": "code",
   "execution_count": null,
   "metadata": {},
   "outputs": [],
   "source": [
    "from tensorflow.keras import layers\n",
    "from tensorflow.keras.models import Model\n",
    "from tensorflow.keras.datasets import mnist\n",
    "from tensorflow.keras.optimizers import Adam\n",
    "from tensorflow.keras.callbacks import LambdaCallback\n",
    "from tensorflow.keras.callbacks import Callback\n",
    "from sklearn.model_selection import train_test_split\n",
    "import tensorflow as tf\n",
    "import numpy as np\n",
    "import matplotlib.pyplot as plt"
   ]
  },
  {
   "cell_type": "markdown",
   "metadata": {},
   "source": [
    "**Funzioni Utilizzate**"
   ]
  },
  {
   "cell_type": "code",
   "execution_count": null,
   "metadata": {},
   "outputs": [],
   "source": [
    "def generator(dataset,batchsize,moves=10):\n",
    "  while True:\n",
    "    rand = np.random.randint(dataset.shape[0],size=batchsize)\n",
    "    y_truth = dataset[rand]\n",
    "    blurred = np.copy(y_truth)\n",
    "    moving = tf.expand_dims(y_truth,axis=-1)\n",
    "\n",
    "    for i in range(moves):\n",
    "      #RandomTranslation requires a channel axis\n",
    "      moving = layers.RandomTranslation(0.07,0.07,fill_mode='constant',interpolation='bilinear')(moving)\n",
    "      blurred = blurred + tf.squeeze(moving)\n",
    "    blurred = blurred/(moves+1)\n",
    "    yield(blurred,y_truth)\n",
    "\n",
    "def plot(x,y):\n",
    "  no = x.shape[0]\n",
    "  print(no)\n",
    "  plt.figure(figsize=(2*no, 4))\n",
    "  for i in range(no):\n",
    "    # display original\n",
    "    ax = plt.subplot(2, no, i + 1)\n",
    "    plt.imshow(x[i])\n",
    "    plt.gray()\n",
    "    ax.get_xaxis().set_visible(False)\n",
    "    ax.get_yaxis().set_visible(False)\n",
    "\n",
    "    # display reconstruction\n",
    "    ax = plt.subplot(2, no, i + 1 + no)\n",
    "    plt.imshow(y[i])\n",
    "    plt.gray()\n",
    "    ax.get_xaxis().set_visible(False)\n",
    "    ax.get_yaxis().set_visible(False)\n",
    "  plt.show()\n",
    "\n",
    "def deblur_model(input_shape):\n",
    "  inputs = layers.Input(shape=input_shape)\n",
    "\n",
    "  # Encoder\n",
    "  x = layers.Conv2D(64, (3, 3), activation='relu', padding='same')(inputs)\n",
    "  x = layers.Conv2D(64, (3, 3), activation='relu', padding='same')(x)\n",
    "\n",
    "  # Decoder\n",
    "  x = layers.Conv2D(64, (3, 3), activation='relu', padding='same')(x)\n",
    "  outputs = layers.Conv2D(1, (3, 3), activation='sigmoid', padding='same')(x)\n",
    "\n",
    "  model = Model(inputs, outputs)\n",
    "  return model"
   ]
  },
  {
   "cell_type": "markdown",
   "metadata": {},
   "source": [
    "**Definizione del Modello**"
   ]
  },
  {
   "cell_type": "code",
   "execution_count": null,
   "metadata": {},
   "outputs": [],
   "source": [
    "(x_train, y_train), (x_val,y_val) = mnist.load_data()\n",
    "x_train = (x_train/255.).astype(np.float32)\n",
    "x_val = (x_val/255.).astype(np.float32)\n",
    "\n",
    "#cambiare rapporto di grandezza tra train-val-test set"
   ]
  },
  {
   "cell_type": "markdown",
   "metadata": {},
   "source": [
    "**Fase di Training del Modello**"
   ]
  },
  {
   "cell_type": "code",
   "execution_count": 2,
   "metadata": {},
   "outputs": [
    {
     "ename": "NameError",
     "evalue": "name 'generator' is not defined",
     "output_type": "error",
     "traceback": [
      "\u001b[0;31m---------------------------------------------------------------------------\u001b[0m",
      "\u001b[0;31mNameError\u001b[0m                                 Traceback (most recent call last)",
      "Cell \u001b[0;32mIn[2], line 1\u001b[0m\n\u001b[0;32m----> 1\u001b[0m my_gen \u001b[38;5;241m=\u001b[39m \u001b[43mgenerator\u001b[49m(x_train,\u001b[38;5;241m5\u001b[39m)\n\u001b[1;32m      2\u001b[0m test_x,test_y \u001b[38;5;241m=\u001b[39m \u001b[38;5;28mnext\u001b[39m(my_gen)\n\u001b[1;32m      3\u001b[0m plot(test_x,test_y)\n",
      "\u001b[0;31mNameError\u001b[0m: name 'generator' is not defined"
     ]
    }
   ],
   "source": [
    "#parametri\n",
    "batch_size = 32\n",
    "epochs = 10\n",
    "new_learning_rate = 0.001\n",
    "new_optimizer = Adam(learning_rate=new_learning_rate)\n",
    "steps_per_epoch=len(x_train) // batch_size\n",
    "\n",
    "#dati di training\n",
    "my_gen = generator(x_train,batch_size)\n",
    "train_x,train_y = next(my_gen)\n",
    "#plot(train_x,train_y)\n",
    "\n",
    "#dati di validazione\n",
    "my_gen2 = generator(x_val,batch_size)\n",
    "val_x,val_y = next(my_gen2)\n",
    "\n",
    "model = deblur_model((28, 28, 1))\n",
    "model.compile(optimizer=new_optimizer, loss='mse', metrics=['accuracy'])\n",
    "\n",
    "#model.load_weights(\"mnist_project.h5\")\n",
    "\n",
    "history = model.fit(\n",
    "    my_gen,\n",
    "    epochs=epochs,\n",
    "    steps_per_epoch=steps_per_epoch,\n",
    "    validation_data=(val_x,val_y),\n",
    "    shuffle=True\n",
    ")\n",
    "\n",
    "mse_values_valid = history.history['val_loss']\n",
    "\n",
    "mean_mse_valid = np.mean(mse_values_valid)\n",
    "std_mse_valid = np.std(mse_values_valid)\n",
    "\n",
    "print(f'\\n Mean MSE (Validation): {mean_mse_valid}')\n",
    "print(f'Standard Deviation MSE (Validation): {std_mse_valid}')\n",
    "\n",
    "model.summary()\n",
    "\n",
    "model.save_weights(\"mnist_project.h5\")\n",
    "\n",
    "#utilizzare history restituito dal fit per fare un plotting delle statistiche che abbiamo su accuracy e loss\n",
    "\n",
    "# batch size : 32\n",
    "# epochs = 10\n",
    "# learning rate non specificato\n",
    "# val_loss: 0.0098 - val_accuracy: 0.8111\n",
    "\n",
    "# Mean MSE (Validation): 0.017578958347439767\n",
    "# Standard Deviation MSE (Validation): 0.005811503020716015\n",
    "# con parametri: batch 32, epochs 10, lr 0.001"
   ]
  },
  {
   "cell_type": "markdown",
   "metadata": {},
   "source": [
    "**Fase di Validazione del Modello**"
   ]
  },
  {
   "cell_type": "code",
   "execution_count": null,
   "metadata": {},
   "outputs": [],
   "source": [
    "#da consegna credo che val_x e val_y (validation set) debbano essere 10k immagini\n",
    "(loss_value, acc_value) = model.evaluate(my_gen2, steps=100) #len(x_val) // batch_size\n",
    "\n",
    "deblurred_images = model.predict(val_x, batch_size)\n",
    "\n",
    "deblurred_images_squeezed = np.squeeze(deblurred_images)\n",
    "\n",
    "#mse values\n",
    "mse_values_valid = np.mean(np.square(deblurred_images_squeezed - val_y), axis=1)\n",
    "\n",
    "# Calcola la deviazione standard dell'MSE\n",
    "std_mse_valid = np.std(mse_values_valid)\n",
    "\n",
    "print(f\"\\n MSE: {loss_value}\")\n",
    "print(f'\\n Standard Deviation MSE: {std_mse_valid}')\n",
    "print(f\"\\n Accuracy: {acc_value}\")\n",
    "\n",
    "#mean_square_error(test_x,valid_x);"
   ]
  },
  {
   "cell_type": "markdown",
   "metadata": {},
   "source": [
    "**Plotting**"
   ]
  },
  {
   "cell_type": "code",
   "execution_count": null,
   "metadata": {},
   "outputs": [],
   "source": [
    "plot(val_x, deblurred_images)"
   ]
  }
 ],
 "metadata": {
  "kernelspec": {
   "display_name": "Python 3",
   "language": "python",
   "name": "python3"
  },
  "language_info": {
   "codemirror_mode": {
    "name": "ipython",
    "version": 3
   },
   "file_extension": ".py",
   "mimetype": "text/x-python",
   "name": "python",
   "nbconvert_exporter": "python",
   "pygments_lexer": "ipython3",
   "version": "3.9.6"
  }
 },
 "nbformat": 4,
 "nbformat_minor": 2
}
