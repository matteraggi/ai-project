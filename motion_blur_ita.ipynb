{
  "cells": [
    {
      "cell_type": "markdown",
      "metadata": {
        "id": "bacEDFoO3XOz"
      },
      "source": [
        "#Deblurring di immagini mosse\n",
        "\n",
        "Il progetto riguarda il deblurirng di immagini. Il tipo di \"blur\" in questione è ottenuto mediante sovrapposizione di immagini leggermente traslate a partire dall'originale, lungo un tragitto randomico.\n",
        "\n",
        "Questo tipo di blur tende simulare il risultato del tremolio della mano per riprese con tempo di esposizione prolungato.\n"
      ]
    },
    {
      "cell_type": "code",
      "execution_count": 1,
      "metadata": {
        "id": "tXq5YKgoyJdX"
      },
      "outputs": [],
      "source": [
        "from tensorflow.keras import layers\n",
        "from tensorflow.keras.models import Model\n",
        "from tensorflow.keras.datasets import mnist\n",
        "import tensorflow as tf\n",
        "import numpy as np\n",
        "import matplotlib.pyplot as plt"
      ]
    },
    {
      "cell_type": "markdown",
      "metadata": {
        "id": "VMXlh4Cz4_Vk"
      },
      "source": [
        "Lavoriamo da immagini ottenute a partire da MNIST."
      ]
    },
    {
      "cell_type": "code",
      "execution_count": 2,
      "metadata": {
        "colab": {
          "base_uri": "https://localhost:8080/"
        },
        "id": "Sb-6a1ZsyuC5",
        "outputId": "103bb1d7-733d-4aad-e44e-0cb336e1e7c8"
      },
      "outputs": [
        {
          "name": "stdout",
          "output_type": "stream",
          "text": [
            "Downloading data from https://storage.googleapis.com/tensorflow/tf-keras-datasets/mnist.npz\n",
            "11490434/11490434 [==============================] - 1s 0us/step\n"
          ]
        }
      ],
      "source": [
        "(x_train, y_train), (x_test, y_test) = mnist.load_data()\n",
        "x_train = (x_train/255.).astype(np.float32)\n",
        "x_test = (x_test/255.).astype(np.float32)"
      ]
    },
    {
      "cell_type": "markdown",
      "metadata": {
        "id": "z6c89m6z5J7N"
      },
      "source": [
        "Qui viene fornito il generatore che dovete utilizzare per il vostro progetto.\n",
        "Non modificate in numero di mosse (10), nè il range della traslazione.\n",
        "\n",
        "Siete liberi di modificare a piacimento la batchsize. Utilizzate x_train per il training e x_valid per la validazione."
      ]
    },
    {
      "cell_type": "code",
      "execution_count": 3,
      "metadata": {
        "id": "eMU4M2_Ty18E"
      },
      "outputs": [],
      "source": [
        "def generator(dataset,batchsize,moves=10):\n",
        "  while True:\n",
        "    rand = np.random.randint(dataset.shape[0],size=batchsize)\n",
        "    y_truth = dataset[rand]\n",
        "    blurred = np.copy(y_truth)\n",
        "    moving = tf.expand_dims(y_truth,axis=-1)\n",
        "\n",
        "    for i in range(moves):\n",
        "      #RandomTranslation requires a channel axis\n",
        "      moving = layers.RandomTranslation(0.07,0.07,fill_mode='constant',interpolation='bilinear')(moving)\n",
        "      blurred = blurred + tf.squeeze(moving)\n",
        "    blurred = blurred/(moves+1)\n",
        "    yield(blurred,y_truth)\n"
      ]
    },
    {
      "cell_type": "code",
      "execution_count": 4,
      "metadata": {
        "id": "yUHecGrg7y9n"
      },
      "outputs": [],
      "source": [
        "my_gen = generator(x_train,5)"
      ]
    },
    {
      "cell_type": "code",
      "execution_count": 5,
      "metadata": {
        "id": "2cg2crUI2a0W"
      },
      "outputs": [],
      "source": [
        "def plot(x,y):\n",
        "  no = x.shape[0]\n",
        "  print(no)\n",
        "  plt.figure(figsize=(2*no, 4))\n",
        "  for i in range(no):\n",
        "    # display original\n",
        "    ax = plt.subplot(2, no, i + 1)\n",
        "    plt.imshow(x[i])\n",
        "    plt.gray()\n",
        "    ax.get_xaxis().set_visible(False)\n",
        "    ax.get_yaxis().set_visible(False)\n",
        "\n",
        "    # display reconstruction\n",
        "    ax = plt.subplot(2, no, i + 1 + no)\n",
        "    plt.imshow(y[i])\n",
        "    plt.gray()\n",
        "    ax.get_xaxis().set_visible(False)\n",
        "    ax.get_yaxis().set_visible(False)\n",
        "  plt.show()"
      ]
    },
    {
      "cell_type": "markdown",
      "metadata": {
        "id": "lVt0nxCeEfVJ"
      },
      "source": [
        "Qui potete vedere alcuni esempi restituiti dal generatore\n",
        "Here we plot some examples. In the first row you see the blurred image, and in the second the original image, that is the ground truth that you are suppose to obtain through deblurring."
      ]
    },
    {
      "cell_type": "code",
      "execution_count": 8,
      "metadata": {
        "colab": {
          "base_uri": "https://localhost:8080/",
          "height": 355
        },
        "id": "6CtE9rzb78Hg",
        "outputId": "c7edbf91-b8a7-4534-8943-c67a54301651"
      },
      "outputs": [
        {
          "name": "stdout",
          "output_type": "stream",
          "text": [
            "5\n"
          ]
        },
        {
          "data": {
            "image/png": "[encoded data removed]",
            "text/plain": [
              "<Figure size 1000x400 with 10 Axes>"
            ]
          },
          "metadata": {},
          "output_type": "display_data"
        }
      ],
      "source": [
        "test_x,test_y = next(my_gen)\n",
        "plot(test_x,test_y)"
      ]
    },
    {
      "cell_type": "markdown",
      "metadata": {
        "id": "7TbSJVKZEKig"
      },
      "source": [
        "# Valutazione\n",
        "\n",
        "Utilizzate Mean Squared Error (mse) per valutare l'errore tra l'immagine deblurred e la ground truth. ✅\n",
        "\n",
        "Misurate l' mse su 10000 immagini blurred ottenute dal validation set.\n",
        "\n",
        "Ripetete la computazione precedente per 10 volte, e fornite come risutato la\n",
        "**media dei 10 round, unitamente alla deviazione standard**. \n",
        "\n",
        "(fare validation per 10 volte e stampare ogni volta la media di mse e la deviazione standard (processo di validazione classico))\n"
      ]
    },
    {
      "cell_type": "markdown",
      "metadata": {
        "id": "01Wj8Kx0We5S"
      },
      "source": [
        "# Cosa consegnare\n",
        "Il lavoro deve essere scolto in keras/tensorflow. Consegnate un singolo notebook dove dovete conservare traccia del training.\n",
        "\n",
        "Discutete e motivate l'architettura finale, cosi come la scelta dei principali iperparametri."
      ]
    }
  ],
  "metadata": {
    "accelerator": "GPU",
    "colab": {
      "gpuType": "V100",
      "machine_shape": "hm",
      "provenance": []
    },
    "kernelspec": {
      "display_name": "Python 3",
      "name": "python3"
    },
    "language_info": {
      "name": "python"
    }
  },
  "nbformat": 4,
  "nbformat_minor": 0
}
